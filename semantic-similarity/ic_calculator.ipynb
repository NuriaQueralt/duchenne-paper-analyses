{
 "cells": [
  {
   "cell_type": "markdown",
   "metadata": {},
   "source": [
    "# Semantic Similarity with Python\n",
    "\n",
    "    \n",
    "### Set up"
   ]
  },
  {
   "cell_type": "code",
   "execution_count": 1,
   "metadata": {},
   "outputs": [],
   "source": [
    "import ssmpy\n",
    "import pandas as pd"
   ]
  },
  {
   "cell_type": "code",
   "execution_count": 2,
   "metadata": {},
   "outputs": [],
   "source": [
    "# ssmpy config\n",
    "ssmpy.mica = True # determines if it uses MICA or DCA\n",
    "ssmpy.intrinsic = False # determines if it uses extrinsic or intrinsic IC"
   ]
  },
  {
   "cell_type": "markdown",
   "metadata": {},
   "source": [
    "### Functions"
   ]
  },
  {
   "cell_type": "code",
   "execution_count": 3,
   "metadata": {},
   "outputs": [],
   "source": [
    "# IC calculation function\n",
    "def ic(term):\n",
    "    iri = ssmpy.get_id(term)\n",
    "    # \"GO_0055114\" is not in GO because is OBSOLETE\n",
    "    try:\n",
    "        res = ssmpy.information_content(iri)\n",
    "    except TypeError:\n",
    "        res = 'NA in OWL (OBSOLETE)'\n",
    "        print(\"'{}' term not found in the ontology because may be OBSOLETE\".format(term))\n",
    "    return res\n"
   ]
  },
  {
   "cell_type": "markdown",
   "metadata": {},
   "source": [
    "### Upload the semantic base structure\n",
    "##### Download GO and annotations "
   ]
  },
  {
   "cell_type": "code",
   "execution_count": 4,
   "metadata": {},
   "outputs": [],
   "source": [
    "%%bash\n",
    "\n",
    "#wget http://purl.obolibrary.org/obo/go.owl\n",
    "#wget http://geneontology.org/gene-associations/goa_uniprot_all_noiea.gaf.gz\n",
    "#gunzip goa_uniprot_all_noiea.gaf.gz"
   ]
  },
  {
   "cell_type": "code",
   "execution_count": 7,
   "metadata": {
    "scrolled": true
   },
   "outputs": [
    {
     "name": "stdout",
     "output_type": "stream",
     "text": [
      "loading the ontology go.owl\n",
      "calculating transitive closure at distance: 1\n",
      "calculating transitive closure at distance: 2\n",
      "calculating transitive closure at distance: 3\n",
      "calculating transitive closure at distance: 4\n",
      "calculating transitive closure at distance: 5\n",
      "calculating transitive closure at distance: 6\n",
      "calculating transitive closure at distance: 7\n",
      "calculating transitive closure at distance: 8\n",
      "calculating transitive closure at distance: 9\n",
      "calculating transitive closure at distance: 10\n",
      "calculating transitive closure at distance: 11\n",
      "calculating transitive closure at distance: 12\n",
      "calculating transitive closure at distance: 13\n",
      "calculating transitive closure at distance: 14\n",
      "calculating transitive closure at distance: 15\n",
      "calculating transitive closure at distance: 16\n",
      "calculating the frequency from file goa_uniprot_all_noiea.gaf\n",
      "calculating the descendents\n",
      "calculating the hierarchical frequency\n",
      "the end\n"
     ]
    }
   ],
   "source": [
    "# create the semantic base (done a few hours ago)\n",
    "#ssmpy.create_semantic_base(\"go.owl\", \"go.db\", \"http://purl.obolibrary.org/obo/\", \"http://www.w3.org/2000/01/rdf-schema#subClassOf\", \"goa_uniprot_all_noiea.gaf\")"
   ]
  },
  {
   "cell_type": "code",
   "execution_count": 5,
   "metadata": {},
   "outputs": [],
   "source": [
    "# upload the semantic base data structure\n",
    "ssmpy.semantic_base(\"go.db\")"
   ]
  },
  {
   "cell_type": "markdown",
   "metadata": {},
   "source": [
    "### Upload input data"
   ]
  },
  {
   "cell_type": "code",
   "execution_count": 6,
   "metadata": {},
   "outputs": [
    {
     "name": "stdout",
     "output_type": "stream",
     "text": [
      "(155, 11)\n"
     ]
    },
    {
     "data": {
      "text/html": [
       "<div>\n",
       "<style scoped>\n",
       "    .dataframe tbody tr th:only-of-type {\n",
       "        vertical-align: middle;\n",
       "    }\n",
       "\n",
       "    .dataframe tbody tr th {\n",
       "        vertical-align: top;\n",
       "    }\n",
       "\n",
       "    .dataframe thead th {\n",
       "        text-align: right;\n",
       "    }\n",
       "</style>\n",
       "<table border=\"1\" class=\"dataframe\">\n",
       "  <thead>\n",
       "    <tr style=\"text-align: right;\">\n",
       "      <th></th>\n",
       "      <th>Representing term id</th>\n",
       "      <th>Representing term name</th>\n",
       "      <th>Representing term size</th>\n",
       "      <th>Representing term rank</th>\n",
       "      <th>Represented term number</th>\n",
       "      <th>Eleni-GOBP.csv term rank</th>\n",
       "      <th>Freddie-GOBP.txt term rank</th>\n",
       "      <th>Nazli-GOBP.txt term rank</th>\n",
       "      <th>MOGAMUN-GOBP.csv term rank</th>\n",
       "      <th>pathfindR-GOBP.csv term rank</th>\n",
       "      <th>EnrichNet-GOBP.csv term rank</th>\n",
       "    </tr>\n",
       "  </thead>\n",
       "  <tbody>\n",
       "    <tr>\n",
       "      <th>0</th>\n",
       "      <td>GO:0006952</td>\n",
       "      <td>defense response</td>\n",
       "      <td>1823</td>\n",
       "      <td>1</td>\n",
       "      <td>184</td>\n",
       "      <td>1</td>\n",
       "      <td>7</td>\n",
       "      <td>1</td>\n",
       "      <td>9</td>\n",
       "      <td>2</td>\n",
       "      <td>5</td>\n",
       "    </tr>\n",
       "    <tr>\n",
       "      <th>1</th>\n",
       "      <td>GO:0007165</td>\n",
       "      <td>signal transduction</td>\n",
       "      <td>6290</td>\n",
       "      <td>1</td>\n",
       "      <td>1</td>\n",
       "      <td>100</td>\n",
       "      <td>1</td>\n",
       "      <td>91</td>\n",
       "      <td>578</td>\n",
       "      <td>None</td>\n",
       "      <td>None</td>\n",
       "    </tr>\n",
       "  </tbody>\n",
       "</table>\n",
       "</div>"
      ],
      "text/plain": [
       "  Representing term id Representing term name  Representing term size  \\\n",
       "0           GO:0006952       defense response                    1823   \n",
       "1           GO:0007165    signal transduction                    6290   \n",
       "\n",
       "   Representing term rank  Represented term number Eleni-GOBP.csv term rank  \\\n",
       "0                       1                      184                        1   \n",
       "1                       1                        1                      100   \n",
       "\n",
       "  Freddie-GOBP.txt term rank Nazli-GOBP.txt term rank  \\\n",
       "0                          7                        1   \n",
       "1                          1                       91   \n",
       "\n",
       "  MOGAMUN-GOBP.csv term rank pathfindR-GOBP.csv term rank  \\\n",
       "0                          9                            2   \n",
       "1                        578                         None   \n",
       "\n",
       "  EnrichNet-GOBP.csv term rank  \n",
       "0                            5  \n",
       "1                         None  "
      ]
     },
     "execution_count": 6,
     "metadata": {},
     "output_type": "execute_result"
    }
   ],
   "source": [
    "# read input data\n",
    "path = \"/home/nur/workspace/duchenne-paper-analyses/semantic-similarity/\"\n",
    "in_f_name = \"termSummary10-GOBP-MaxSize5000-Summary.csv\"\n",
    "in_f = path + in_f_name\n",
    "data = pd.read_csv(in_f)\n",
    "print(data.shape)\n",
    "data.head(2)"
   ]
  },
  {
   "cell_type": "markdown",
   "metadata": {},
   "source": [
    "### Compute the IC for the input data and save output"
   ]
  },
  {
   "cell_type": "code",
   "execution_count": 7,
   "metadata": {
    "scrolled": true
   },
   "outputs": [
    {
     "name": "stdout",
     "output_type": "stream",
     "text": [
      "'GO_0055114' term not found in the ontology because may be OBSOLETE\n",
      "'GO_0042107' term not found in the ontology because may be OBSOLETE\n",
      "(155, 12)\n"
     ]
    },
    {
     "data": {
      "text/html": [
       "<div>\n",
       "<style scoped>\n",
       "    .dataframe tbody tr th:only-of-type {\n",
       "        vertical-align: middle;\n",
       "    }\n",
       "\n",
       "    .dataframe tbody tr th {\n",
       "        vertical-align: top;\n",
       "    }\n",
       "\n",
       "    .dataframe thead th {\n",
       "        text-align: right;\n",
       "    }\n",
       "</style>\n",
       "<table border=\"1\" class=\"dataframe\">\n",
       "  <thead>\n",
       "    <tr style=\"text-align: right;\">\n",
       "      <th></th>\n",
       "      <th>Representing term id</th>\n",
       "      <th>Representing term name</th>\n",
       "      <th>Semantic Similarity (IC)</th>\n",
       "      <th>Representing term size</th>\n",
       "      <th>Representing term rank</th>\n",
       "      <th>Represented term number</th>\n",
       "      <th>Eleni-GOBP.csv term rank</th>\n",
       "      <th>Freddie-GOBP.txt term rank</th>\n",
       "      <th>Nazli-GOBP.txt term rank</th>\n",
       "      <th>MOGAMUN-GOBP.csv term rank</th>\n",
       "      <th>pathfindR-GOBP.csv term rank</th>\n",
       "      <th>EnrichNet-GOBP.csv term rank</th>\n",
       "    </tr>\n",
       "  </thead>\n",
       "  <tbody>\n",
       "    <tr>\n",
       "      <th>0</th>\n",
       "      <td>GO:0006952</td>\n",
       "      <td>defense response</td>\n",
       "      <td>4.01619</td>\n",
       "      <td>1823</td>\n",
       "      <td>1</td>\n",
       "      <td>184</td>\n",
       "      <td>1</td>\n",
       "      <td>7</td>\n",
       "      <td>1</td>\n",
       "      <td>9</td>\n",
       "      <td>2</td>\n",
       "      <td>5</td>\n",
       "    </tr>\n",
       "    <tr>\n",
       "      <th>1</th>\n",
       "      <td>GO:0007165</td>\n",
       "      <td>signal transduction</td>\n",
       "      <td>3.50282</td>\n",
       "      <td>6290</td>\n",
       "      <td>1</td>\n",
       "      <td>1</td>\n",
       "      <td>100</td>\n",
       "      <td>1</td>\n",
       "      <td>91</td>\n",
       "      <td>578</td>\n",
       "      <td>None</td>\n",
       "      <td>None</td>\n",
       "    </tr>\n",
       "  </tbody>\n",
       "</table>\n",
       "</div>"
      ],
      "text/plain": [
       "  Representing term id Representing term name Semantic Similarity (IC)  \\\n",
       "0           GO:0006952       defense response                  4.01619   \n",
       "1           GO:0007165    signal transduction                  3.50282   \n",
       "\n",
       "   Representing term size  Representing term rank  Represented term number  \\\n",
       "0                    1823                       1                      184   \n",
       "1                    6290                       1                        1   \n",
       "\n",
       "  Eleni-GOBP.csv term rank Freddie-GOBP.txt term rank  \\\n",
       "0                        1                          7   \n",
       "1                      100                          1   \n",
       "\n",
       "  Nazli-GOBP.txt term rank MOGAMUN-GOBP.csv term rank  \\\n",
       "0                        1                          9   \n",
       "1                       91                        578   \n",
       "\n",
       "  pathfindR-GOBP.csv term rank EnrichNet-GOBP.csv term rank  \n",
       "0                            2                            5  \n",
       "1                         None                         None  "
      ]
     },
     "execution_count": 7,
     "metadata": {},
     "output_type": "execute_result"
    }
   ],
   "source": [
    "# compute IC\n",
    "data_ss = data.copy()\n",
    "data_ss['Representing term id'] = data_ss['Representing term id'].apply(lambda x: x.replace(':','_'))\n",
    "data_ss['ss_ic'] = 1\n",
    "data_ss = data_ss[['Representing term id', 'Representing term name', 'ss_ic',\n",
    "       'Representing term size', 'Representing term rank',\n",
    "       'Represented term number', 'Eleni-GOBP.csv term rank',\n",
    "       'Freddie-GOBP.txt term rank', 'Nazli-GOBP.txt term rank',\n",
    "       'MOGAMUN-GOBP.csv term rank', 'pathfindR-GOBP.csv term rank',\n",
    "       'EnrichNet-GOBP.csv term rank']] \n",
    "data_ss['ss_ic'] = data_ss['Representing term id'].apply(ic)\n",
    "data_ss = data_ss.rename(columns={'ss_ic':'Semantic Similarity (IC)'})\n",
    "data_ss['Representing term id'] = data_ss['Representing term id'].apply(lambda x: x.replace('_',':'))\n",
    "print(data_ss.shape)\n",
    "data_ss.head(2)"
   ]
  },
  {
   "cell_type": "code",
   "execution_count": 8,
   "metadata": {},
   "outputs": [],
   "source": [
    "# save file to CSV\n",
    "data_ss.to_csv('./termSummary10-GOBP-MaxSize5000-Summary-with-semantic-similarity2.csv', index=False)"
   ]
  },
  {
   "cell_type": "code",
   "execution_count": 9,
   "metadata": {},
   "outputs": [
    {
     "ename": "ModuleNotFoundError",
     "evalue": "No module named 'xlsxwriter'",
     "output_type": "error",
     "traceback": [
      "\u001b[0;31m--\u001b[0m",
      "\u001b[0;31mModuleNotFoundError\u001b[0mTraceback (most recent call last)",
      "\u001b[0;32m<ipython-input-9-081969701c13>\u001b[0m in \u001b[0;36m<module>\u001b[0;34m\u001b[0m\n\u001b[1;32m      1\u001b[0m \u001b[0;31m# save file to xlsx\u001b[0m\u001b[0;34m\u001b[0m\u001b[0;34m\u001b[0m\u001b[0;34m\u001b[0m\u001b[0m\n\u001b[0;32m----> 2\u001b[0;31m \u001b[0mwriter\u001b[0m \u001b[0;34m=\u001b[0m \u001b[0mpd\u001b[0m\u001b[0;34m.\u001b[0m\u001b[0mExcelWriter\u001b[0m\u001b[0;34m(\u001b[0m\u001b[0;34m'./termSummary10-GOBP-MaxSize5000-Summary-with-semantic-similarity2.xlsx'\u001b[0m\u001b[0;34m,\u001b[0m \u001b[0mengine\u001b[0m\u001b[0;34m=\u001b[0m\u001b[0;34m'xlsxwriter'\u001b[0m\u001b[0;34m)\u001b[0m\u001b[0;34m\u001b[0m\u001b[0;34m\u001b[0m\u001b[0m\n\u001b[0m\u001b[1;32m      3\u001b[0m \u001b[0mdf\u001b[0m\u001b[0;34m.\u001b[0m\u001b[0mto_excel\u001b[0m\u001b[0;34m(\u001b[0m\u001b[0mwriter\u001b[0m\u001b[0;34m,\u001b[0m \u001b[0msheet_name\u001b[0m\u001b[0;34m=\u001b[0m\u001b[0;34m'Sheet1'\u001b[0m\u001b[0;34m)\u001b[0m\u001b[0;34m\u001b[0m\u001b[0;34m\u001b[0m\u001b[0m\n\u001b[1;32m      4\u001b[0m \u001b[0mwriter\u001b[0m\u001b[0;34m.\u001b[0m\u001b[0msave\u001b[0m\u001b[0;34m(\u001b[0m\u001b[0;34m)\u001b[0m\u001b[0;34m\u001b[0m\u001b[0;34m\u001b[0m\u001b[0m\n",
      "\u001b[0;32m~/miniconda3/lib/python3.8/site-packages/pandas/io/excel/_xlsxwriter.py\u001b[0m in \u001b[0;36m__init__\u001b[0;34m(self, path, engine, date_format, datetime_format, mode, **engine_kwargs)\u001b[0m\n\u001b[1;32m    171\u001b[0m     ):\n\u001b[1;32m    172\u001b[0m         \u001b[0;31m# Use the xlsxwriter module as the Excel writer.\u001b[0m\u001b[0;34m\u001b[0m\u001b[0;34m\u001b[0m\u001b[0;34m\u001b[0m\u001b[0m\n\u001b[0;32m--> 173\u001b[0;31m         \u001b[0;32mimport\u001b[0m \u001b[0mxlsxwriter\u001b[0m\u001b[0;34m\u001b[0m\u001b[0;34m\u001b[0m\u001b[0m\n\u001b[0m\u001b[1;32m    174\u001b[0m \u001b[0;34m\u001b[0m\u001b[0m\n\u001b[1;32m    175\u001b[0m         \u001b[0;32mif\u001b[0m \u001b[0mmode\u001b[0m \u001b[0;34m==\u001b[0m \u001b[0;34m\"a\"\u001b[0m\u001b[0;34m:\u001b[0m\u001b[0;34m\u001b[0m\u001b[0;34m\u001b[0m\u001b[0m\n",
      "\u001b[0;31mModuleNotFoundError\u001b[0m: No module named 'xlsxwriter'"
     ]
    }
   ],
   "source": [
    "# save file to xlsx\n",
    "writer = pd.ExcelWriter('./termSummary10-GOBP-MaxSize5000-Summary-with-semantic-similarity2.xlsx', engine='xlsxwriter')\n",
    "df.to_excel(writer, sheet_name='Sheet1')\n",
    "writer.save()"
   ]
  },
  {
   "cell_type": "code",
   "execution_count": 10,
   "metadata": {},
   "outputs": [
    {
     "ename": "ModuleNotFoundError",
     "evalue": "No module named 'xlsxwriter'",
     "output_type": "error",
     "traceback": [
      "\u001b[0;31m--\u001b[0m",
      "\u001b[0;31mModuleNotFoundError\u001b[0mTraceback (most recent call last)",
      "\u001b[0;32m<ipython-input-10-f6a99370668f>\u001b[0m in \u001b[0;36m<module>\u001b[0;34m\u001b[0m\n\u001b[0;32m----> 1\u001b[0;31m \u001b[0;32mimport\u001b[0m \u001b[0mxlsxwriter\u001b[0m\u001b[0;34m\u001b[0m\u001b[0;34m\u001b[0m\u001b[0m\n\u001b[0m\u001b[1;32m      2\u001b[0m \u001b[0mwriter\u001b[0m \u001b[0;34m=\u001b[0m \u001b[0mpd\u001b[0m\u001b[0;34m.\u001b[0m\u001b[0mExcelWriter\u001b[0m\u001b[0;34m(\u001b[0m\u001b[0;34m'./termSummary10-GOBP-MaxSize5000-Summary-with-semantic-similarity2.xlsx'\u001b[0m\u001b[0;34m,\u001b[0m \u001b[0mengine\u001b[0m\u001b[0;34m=\u001b[0m\u001b[0;34m'xlsxwriter'\u001b[0m\u001b[0;34m)\u001b[0m\u001b[0;34m\u001b[0m\u001b[0;34m\u001b[0m\u001b[0m\n\u001b[1;32m      3\u001b[0m \u001b[0mdf\u001b[0m\u001b[0;34m.\u001b[0m\u001b[0mto_excel\u001b[0m\u001b[0;34m(\u001b[0m\u001b[0mwriter\u001b[0m\u001b[0;34m,\u001b[0m \u001b[0msheet_name\u001b[0m\u001b[0;34m=\u001b[0m\u001b[0;34m'Sheet1'\u001b[0m\u001b[0;34m)\u001b[0m\u001b[0;34m\u001b[0m\u001b[0;34m\u001b[0m\u001b[0m\n\u001b[1;32m      4\u001b[0m \u001b[0mwriter\u001b[0m\u001b[0;34m.\u001b[0m\u001b[0msave\u001b[0m\u001b[0;34m(\u001b[0m\u001b[0;34m)\u001b[0m\u001b[0;34m\u001b[0m\u001b[0;34m\u001b[0m\u001b[0m\n",
      "\u001b[0;31mModuleNotFoundError\u001b[0m: No module named 'xlsxwriter'"
     ]
    }
   ],
   "source": [
    "import xlsxwriter\n",
    "writer = pd.ExcelWriter('./termSummary10-GOBP-MaxSize5000-Summary-with-semantic-similarity2.xlsx', engine='xlsxwriter')\n",
    "df.to_excel(writer, sheet_name='Sheet1')\n",
    "writer.save()"
   ]
  },
  {
   "cell_type": "code",
   "execution_count": null,
   "metadata": {},
   "outputs": [],
   "source": [
    "# pip install XlsxWriter"
   ]
  },
  {
   "cell_type": "code",
   "execution_count": 12,
   "metadata": {},
   "outputs": [],
   "source": [
    "import xlsxwriter\n",
    "writer = pd.ExcelWriter('./termSummary10-GOBP-MaxSize5000-Summary-with-semantic-similarity2.xlsx', engine='xlsxwriter')\n",
    "data_ss.to_excel(writer, sheet_name='Sheet1')\n",
    "writer.save()"
   ]
  }
 ],
 "metadata": {
  "kernelspec": {
   "display_name": "Python 3",
   "language": "python",
   "name": "python3"
  },
  "language_info": {
   "codemirror_mode": {
    "name": "ipython",
    "version": 3
   },
   "file_extension": ".py",
   "mimetype": "text/x-python",
   "name": "python",
   "nbconvert_exporter": "python",
   "pygments_lexer": "ipython3",
   "version": "3.8.3"
  }
 },
 "nbformat": 4,
 "nbformat_minor": 4
}
